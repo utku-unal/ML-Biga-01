{
 "cells": [
  {
   "cell_type": "code",
   "execution_count": 44,
   "id": "daca26be-f4de-4144-a1e9-165564ef38bf",
   "metadata": {},
   "outputs": [],
   "source": [
    "import csv\n",
    "from datetime import datetime\n",
    "from datetime import timedelta\n",
    "import os\n",
    "import glob\n",
    "from obspy import read, UTCDateTime, Stream\n",
    "from obspy.signal.trigger import ar_pick\n",
    "import matplotlib.pyplot as plt\n",
    "from tqdm import tqdm"
   ]
  },
  {
   "cell_type": "code",
   "execution_count": 45,
   "id": "44bf89b0-1555-4d7c-afba-2c89cf727c4d",
   "metadata": {},
   "outputs": [],
   "source": [
    "path_data = './AA/202021AAS/'\n",
    "path_inputfile = './AA/AAS_phasenet_input.csv'\n",
    "path_parpicks = './AA/AAS_all_arpick_p_picks.csv'\n",
    "path_sarpicks = './AA/AAS_all_arpick_s_picks.csv'"
   ]
  },
  {
   "cell_type": "code",
   "execution_count": 46,
   "id": "c8785ad4-d349-4b93-b8ae-eb4bf79c817e",
   "metadata": {},
   "outputs": [],
   "source": [
    "path_project_home = '/Users/utkuunal/Desktop/Projects/ProjectA'\n",
    "os.chdir('{}'.format(path_project_home))"
   ]
  },
  {
   "cell_type": "code",
   "execution_count": 47,
   "id": "2107afcb-bd93-4752-ba1f-b3c0388251bd",
   "metadata": {},
   "outputs": [
    {
     "name": "stdout",
     "output_type": "stream",
     "text": [
      "7091\n",
      "['20200514_011723--40.81-25.59--Ke-EGE-DENIZI.M=2.0/RDO.HH', '20200514_011723--40.81-25.59--Ke-EGE-DENIZI.M=2.0/ALN.HH', '20200514_011723--40.81-25.59--Ke-EGE-DENIZI.M=2.0/ENEZ.BH', '20200514_011723--40.81-25.59--Ke-EGE-DENIZI.M=2.0/GADA.BH', '20200514_011723--40.81-25.59--Ke-EGE-DENIZI.M=2.0/ERIK.BH', '20200514_011723--40.81-25.59--Ke-EGE-DENIZI.M=2.0/GELI.BH', '20200514_011723--40.81-25.59--Ke-EGE-DENIZI.M=2.0/KDZ.HH', '20200514_011723--40.81-25.59--Ke-EGE-DENIZI.M=2.0/COMU.HH', '20200514_011723--40.81-25.59--Ke-EGE-DENIZI.M=2.0/BOZC.BH', '20200514_021748--39.59-26.09--Ke-TUZLA-AYVACIK-(CANAKKALE).M=1.3/BOZC.BH']\n"
     ]
    }
   ],
   "source": [
    "picks = []\n",
    "with open(path_inputfile) as csv_file:\n",
    "    csv_reader = csv.reader(csv_file, delimiter=',')\n",
    "    for row in csv_reader:\n",
    "        if row[0] != 'fname':\n",
    "            dirpart = row[0].split('/')[3]\n",
    "            filepart = row[0].split('/')[4][:-1]\n",
    "            picks.append(dirpart + '/' + filepart)\n",
    "print(len(picks))\n",
    "print(picks[:10])"
   ]
  },
  {
   "cell_type": "code",
   "execution_count": 48,
   "id": "3eb3ac3d-23b0-474d-a1f1-ce417bf2a371",
   "metadata": {},
   "outputs": [
    {
     "name": "stderr",
     "output_type": "stream",
     "text": [
      "100%|████████████████████████████████████████████████████████████████████████████████████████████| 7091/7091 [00:33<00:00, 212.31it/s]"
     ]
    },
    {
     "name": "stdout",
     "output_type": "stream",
     "text": [
      "Picks exist: 7091\n",
      "Picks without seismographs: 0\n",
      "7091\n",
      "[['20200514_011723--40.81-25.59--Ke-EGE-DENIZI.M=2.0/RDO.HH', '2020-05-14T01:17:30.57', 'P'], ['20200514_011723--40.81-25.59--Ke-EGE-DENIZI.M=2.0/ALN.HH', '2020-05-14T01:17:30.66', 'P'], ['20200514_011723--40.81-25.59--Ke-EGE-DENIZI.M=2.0/ENEZ.BH', '2020-05-14T01:17:32.38', 'P'], ['20200514_011723--40.81-25.59--Ke-EGE-DENIZI.M=2.0/GADA.BH', '2020-05-14T01:17:36.68', 'P'], ['20200514_011723--40.81-25.59--Ke-EGE-DENIZI.M=2.0/ERIK.BH', '2020-05-14T01:17:37.16', 'P'], ['20200514_011723--40.81-25.59--Ke-EGE-DENIZI.M=2.0/GELI.BH', '2020-05-14T01:17:38.76', 'P'], ['20200514_011723--40.81-25.59--Ke-EGE-DENIZI.M=2.0/KDZ.HH', '2020-05-14T01:17:38.61', 'P'], ['20200514_011723--40.81-25.59--Ke-EGE-DENIZI.M=2.0/COMU.HH', '2020-05-14T01:17:42.98', 'P'], ['20200514_011723--40.81-25.59--Ke-EGE-DENIZI.M=2.0/BOZC.BH', '2020-05-14T01:17:43.05', 'P'], ['20200514_021748--39.59-26.09--Ke-TUZLA-AYVACIK-(CANAKKALE).M=1.3/BOZC.BH', '2020-05-14T02:17:54.52', 'P']]\n",
      "6822\n",
      "[['20200514_011723--40.81-25.59--Ke-EGE-DENIZI.M=2.0/RDO.HH', '2020-05-14T01:17:35.55', 'S'], ['20200514_011723--40.81-25.59--Ke-EGE-DENIZI.M=2.0/ALN.HH', '2020-05-14T01:17:36.14', 'S'], ['20200514_011723--40.81-25.59--Ke-EGE-DENIZI.M=2.0/ENEZ.BH', '2020-05-14T01:17:41.25', 'S'], ['20200514_011723--40.81-25.59--Ke-EGE-DENIZI.M=2.0/GADA.BH', '2020-05-14T01:17:46.49', 'S'], ['20200514_011723--40.81-25.59--Ke-EGE-DENIZI.M=2.0/ERIK.BH', '2020-05-14T01:17:48.46', 'S'], ['20200514_011723--40.81-25.59--Ke-EGE-DENIZI.M=2.0/GELI.BH', '2020-05-14T01:17:52.46', 'S'], ['20200514_011723--40.81-25.59--Ke-EGE-DENIZI.M=2.0/KDZ.HH', '2020-05-14T01:17:54.09', 'S'], ['20200514_011723--40.81-25.59--Ke-EGE-DENIZI.M=2.0/COMU.HH', '2020-05-14T01:17:58.99', 'S'], ['20200514_011723--40.81-25.59--Ke-EGE-DENIZI.M=2.0/BOZC.BH', '2020-05-14T01:17:58.95', 'S'], ['20200514_021748--39.59-26.09--Ke-TUZLA-AYVACIK-(CANAKKALE).M=1.3/BOZC.BH', '2020-05-14T02:17:58.95', 'S']]\n"
     ]
    },
    {
     "name": "stderr",
     "output_type": "stream",
     "text": [
      "\n"
     ]
    }
   ],
   "source": [
    "os.chdir('{}'.format(path_project_home))\n",
    "i = 0\n",
    "j = 0\n",
    "parpicks = []\n",
    "sarpicks = []\n",
    "for pick in tqdm(picks):\n",
    "    current_eq_dir = path_data + pick.split('/')[0] + '/'\n",
    "    current_station = pick.split('/')[1]\n",
    "    os.chdir('{}'.format(current_eq_dir))\n",
    "    current_seismographs = glob.glob('{}*'.format(current_station))\n",
    "    if current_seismographs != []:\n",
    "        i += 1\n",
    "        start_time = UTCDateTime(0)\n",
    "        end_time = UTCDateTime(2030, 1, 1, 0, 0)\n",
    "        for k in range(3):\n",
    "            if current_seismographs[k].split('.')[1][-1] == 'E':\n",
    "                st_e = read(current_seismographs[k])\n",
    "                x_e = st_e[0]\n",
    "                if x_e.stats.sampling_rate != 100:\n",
    "                    st_e.resample(100)\n",
    "                    x_e = st_e[0]\n",
    "                if UTCDateTime(x_e.stats.starttime) > start_time:\n",
    "                    start_time = UTCDateTime(x_e.stats.starttime)\n",
    "                if UTCDateTime(x_e.stats.endtime) < end_time:\n",
    "                    end_time = UTCDateTime(x_e.stats.endtime)\n",
    "            elif current_seismographs[k].split('.')[1][-1] == 'N':\n",
    "                st_n = read(current_seismographs[k])\n",
    "                x_n = st_n[0]\n",
    "                if x_n.stats.sampling_rate != 100:\n",
    "                    st_n.resample(100)\n",
    "                    x_n = st_n[0]\n",
    "                if UTCDateTime(x_n.stats.starttime) > start_time:\n",
    "                    start_time = UTCDateTime(x_n.stats.starttime)\n",
    "                if UTCDateTime(x_n.stats.endtime) < end_time:\n",
    "                    end_time = UTCDateTime(x_n.stats.endtime)  \n",
    "            else:\n",
    "                st_z = read(current_seismographs[k])\n",
    "                x_z = st_z[0]\n",
    "                if x_z.stats.sampling_rate != 100:\n",
    "                    st_z.resample(100)\n",
    "                    x_z = st_z[0]                \n",
    "                if UTCDateTime(x_z.stats.starttime) > start_time:\n",
    "                    start_time = UTCDateTime(x_z.stats.starttime)\n",
    "                if UTCDateTime(x_z.stats.endtime) < end_time:\n",
    "                    end_time = UTCDateTime(x_z.stats.endtime)\n",
    "        if start_time < end_time:\n",
    "            st_e_new = st_e.slice(start_time, end_time)\n",
    "            st_n_new = st_n.slice(start_time, end_time)\n",
    "            st_z_new = st_z.slice(start_time, end_time)\n",
    "            x_e_new = st_e_new[0]\n",
    "            x_n_new = st_n_new[0]\n",
    "            x_z_new = st_z_new[0]\n",
    "            p_pick, s_pick = ar_pick(\n",
    "                a=x_z_new.data, b=x_n_new.data, c=x_e_new.data,\n",
    "                samp_rate=100,\n",
    "                f1=1, f2=15,\n",
    "                lta_p=1, sta_p=0.1,\n",
    "                lta_s=4, sta_s=1,\n",
    "                m_p=2, m_s=8,\n",
    "                l_p=0.1, l_s=0.2\n",
    "            )\n",
    "            if p_pick < 30:\n",
    "                parpicks.append([pick, str(x_z_new.stats.starttime + p_pick)[:-5], 'P'])\n",
    "            if s_pick > 5:\n",
    "                sarpicks.append([pick, str(x_z_new.stats.starttime + s_pick)[:-5], 'S'])\n",
    "        else:\n",
    "            print('ERROR with starttime or endtime ', m, current_eq_dir, current_seismographs)\n",
    "            print(start_time, end_time)\n",
    "    else:\n",
    "        j += 1\n",
    "    os.chdir('../../..')\n",
    "print('Picks exist:', i)\n",
    "print('Picks without seismographs:', j)\n",
    "print(len(parpicks))\n",
    "print(parpicks[:10])\n",
    "print(len(sarpicks))\n",
    "print(sarpicks[:10])"
   ]
  },
  {
   "cell_type": "code",
   "execution_count": 49,
   "id": "9ea8006a-824b-4331-92e8-5d7b2c1b26f1",
   "metadata": {},
   "outputs": [
    {
     "name": "stdout",
     "output_type": "stream",
     "text": [
      "7091\n"
     ]
    }
   ],
   "source": [
    "i = 0\n",
    "with open(path_parpicks, 'w', newline='') as file:\n",
    "    writer = csv.writer(file)\n",
    "    for parpick in parpicks:\n",
    "        writer.writerow(parpick)\n",
    "        i += 1\n",
    "print(i)"
   ]
  },
  {
   "cell_type": "code",
   "execution_count": 50,
   "id": "236a7c4f-8ac4-4a89-85f2-289c8e4c733b",
   "metadata": {},
   "outputs": [
    {
     "name": "stdout",
     "output_type": "stream",
     "text": [
      "6822\n"
     ]
    }
   ],
   "source": [
    "i = 0\n",
    "with open(path_sarpicks, 'w', newline='') as file:\n",
    "    writer = csv.writer(file)\n",
    "    for sarpick in sarpicks:\n",
    "        writer.writerow(sarpick)\n",
    "        i += 1\n",
    "print(i)"
   ]
  },
  {
   "cell_type": "code",
   "execution_count": null,
   "id": "8c1693a1-b04a-47df-b581-a57b95c31d2b",
   "metadata": {},
   "outputs": [],
   "source": []
  }
 ],
 "metadata": {
  "kernelspec": {
   "display_name": "Python 3 (ipykernel)",
   "language": "python",
   "name": "python3"
  },
  "language_info": {
   "codemirror_mode": {
    "name": "ipython",
    "version": 3
   },
   "file_extension": ".py",
   "mimetype": "text/x-python",
   "name": "python",
   "nbconvert_exporter": "python",
   "pygments_lexer": "ipython3",
   "version": "3.11.6"
  }
 },
 "nbformat": 4,
 "nbformat_minor": 5
}
