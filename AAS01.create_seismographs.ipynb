{
 "cells": [
  {
   "cell_type": "code",
   "execution_count": 3,
   "id": "3e25a0ce-15c0-4c2d-8f71-2c5a0f887e16",
   "metadata": {},
   "outputs": [],
   "source": [
    "import csv\n",
    "from datetime import datetime\n",
    "from datetime import timedelta\n",
    "import os\n",
    "import glob\n",
    "from obspy import read, UTCDateTime, Stream\n",
    "from tqdm import tqdm"
   ]
  },
  {
   "cell_type": "code",
   "execution_count": 4,
   "id": "69e0d3cd-b1bb-4922-891e-329cbfcda229",
   "metadata": {},
   "outputs": [],
   "source": [
    "path_data_out = './AA/202021AAS_BandPass1-15/'\n",
    "path_data_in = './AA/202021X/'\n",
    "path_handpicks = './AA/AA_hand_picks.csv'\n",
    "path_phasenet_input_AAS = './AA/AAS_phasenet_input.csv'\n",
    "path_all_hand_p = './AA/AAS_all_hand_p_picks.csv'\n",
    "path_all_hand_s = './AA/AAS_all_hand_s_picks.csv'"
   ]
  },
  {
   "cell_type": "code",
   "execution_count": 5,
   "id": "ebcd921f-21dd-4551-9956-e7c48791a86e",
   "metadata": {},
   "outputs": [],
   "source": [
    "path_project_home = '/Users/utkuunal/Desktop/Projects/ProjectA'\n",
    "os.chdir('{}'.format(path_project_home))"
   ]
  },
  {
   "cell_type": "code",
   "execution_count": 6,
   "id": "988950ce-51c2-4ff8-81c3-0fbc5af1b87f",
   "metadata": {},
   "outputs": [
    {
     "name": "stdout",
     "output_type": "stream",
     "text": [
      "7095\n",
      "[['20200514_011723--40.81-25.59--Ke-EGE-DENIZI.M=2.0/RDO.HH', '2020-05-14T01:17:30.54', 'P', '20200514_0117'], ['20200514_011723--40.81-25.59--Ke-EGE-DENIZI.M=2.0/ALN.HH', '2020-05-14T01:17:30.68', 'P', '20200514_0117'], ['20200514_011723--40.81-25.59--Ke-EGE-DENIZI.M=2.0/ENEZ.BH', '2020-05-14T01:17:32.42', 'P', '20200514_0117'], ['20200514_011723--40.81-25.59--Ke-EGE-DENIZI.M=2.0/GADA.BH', '2020-05-14T01:17:36.68', 'P', '20200514_0117'], ['20200514_011723--40.81-25.59--Ke-EGE-DENIZI.M=2.0/ERIK.BH', '2020-05-14T01:17:37.61', 'P', '20200514_0117'], ['20200514_011723--40.81-25.59--Ke-EGE-DENIZI.M=2.0/GELI.BH', '2020-05-14T01:17:39.06', 'P', '20200514_0117'], ['20200514_011723--40.81-25.59--Ke-EGE-DENIZI.M=2.0/KDZ.HH', '2020-05-14T01:17:39.94', 'P', '20200514_0117'], ['20200514_011723--40.81-25.59--Ke-EGE-DENIZI.M=2.0/COMU.HH', '2020-05-14T01:17:42.80', 'P', '20200514_0117'], ['20200514_011723--40.81-25.59--Ke-EGE-DENIZI.M=2.0/BOZC.BH', '2020-05-14T01:17:43.48', 'P', '20200514_0117'], ['20200514_021748--39.59-26.09--Ke-TUZLA-AYVACIK-(CANAKKALE).M=1.3/BOZC.BH', '2020-05-14T02:17:54.05', 'P', '20200514_0217']]\n",
      "3689\n",
      "[['20200514_011723--40.81-25.59--Ke-EGE-DENIZI.M=2.0/ENEZ.BH', '2020-05-14T01:17:39.00', 'S', '20200514_0117'], ['20200514_011723--40.81-25.59--Ke-EGE-DENIZI.M=2.0/GADA.BH', '2020-05-14T01:17:46.04', 'S', '20200514_0117'], ['20200514_011723--40.81-25.59--Ke-EGE-DENIZI.M=2.0/ERIK.BH', '2020-05-14T01:17:47.05', 'S', '20200514_0117'], ['20200514_011723--40.81-25.59--Ke-EGE-DENIZI.M=2.0/GELI.BH', '2020-05-14T01:17:50.07', 'S', '20200514_0117'], ['20200514_011723--40.81-25.59--Ke-EGE-DENIZI.M=2.0/COMU.HH', '2020-05-14T01:17:56.07', 'S', '20200514_0117'], ['20200514_011723--40.81-25.59--Ke-EGE-DENIZI.M=2.0/BOZC.BH', '2020-05-14T01:17:58.04', 'S', '20200514_0117'], ['20200514_021748--39.59-26.09--Ke-TUZLA-AYVACIK-(CANAKKALE).M=1.3/BOZC.BH', '2020-05-14T02:17:58.01', 'S', '20200514_0217'], ['20200514_021748--39.59-26.09--Ke-TUZLA-AYVACIK-(CANAKKALE).M=1.3/COMU.HH', '2020-05-14T02:18:08.05', 'S', '20200514_0217'], ['20200514_021748--39.59-26.09--Ke-TUZLA-AYVACIK-(CANAKKALE).M=1.3/GADA.BH', '2020-05-14T02:18:09.06', 'S', '20200514_0217'], ['20200514_021748--39.59-26.09--Ke-TUZLA-AYVACIK-(CANAKKALE).M=1.3/GELI.BH', '2020-05-14T02:18:17.09', 'S', '20200514_0217']]\n"
     ]
    }
   ],
   "source": [
    "ppicks = []\n",
    "spicks = []\n",
    "with open(path_handpicks) as csv_file:\n",
    "    csv_reader = csv.reader(csv_file, delimiter=',')\n",
    "    for row in csv_reader:\n",
    "        if row[2] == 'P':\n",
    "            ppicks.append(row)\n",
    "        elif row[2] == 'S':\n",
    "            spicks.append(row)\n",
    "print(len(ppicks))\n",
    "print(ppicks[0:10])\n",
    "print(len(spicks))\n",
    "print(spicks[0:10])"
   ]
  },
  {
   "cell_type": "code",
   "execution_count": 7,
   "id": "c754a086-696d-4a65-8867-87906ad06a4c",
   "metadata": {},
   "outputs": [
    {
     "name": "stdout",
     "output_type": "stream",
     "text": [
      "OK! The new output directory is created!\n"
     ]
    }
   ],
   "source": [
    "isExist = os.path.exists(path_data_out)\n",
    "if not isExist:\n",
    "   os.makedirs(path_data_out)\n",
    "   print(\"OK! The new output directory is created!\")\n",
    "else:\n",
    "    print('CAUTION! Output directory exists')"
   ]
  },
  {
   "cell_type": "code",
   "execution_count": 8,
   "id": "1cf1bcdb-d864-4b98-b1fd-2128016bce3b",
   "metadata": {},
   "outputs": [
    {
     "name": "stdout",
     "output_type": "stream",
     "text": [
      "OK! Input directory exists\n"
     ]
    }
   ],
   "source": [
    "isExist = os.path.exists(path_data_in)\n",
    "if not isExist:\n",
    "   print(\"ERROR! Input directory does not exist\")\n",
    "else:\n",
    "    print('OK! Input directory exists')"
   ]
  },
  {
   "cell_type": "code",
   "execution_count": 9,
   "id": "4178d915-8854-431b-be13-a708f1f3d38e",
   "metadata": {},
   "outputs": [
    {
     "name": "stdout",
     "output_type": "stream",
     "text": [
      "Corrected P picks:  0\n",
      "7095\n",
      "[['20200514_011723--40.81-25.59--Ke-EGE-DENIZI.M=2.0/RDO.HH', '2020-05-14T01:17:30.54', 'P', '20200514_0117'], ['20200514_011723--40.81-25.59--Ke-EGE-DENIZI.M=2.0/ALN.HH', '2020-05-14T01:17:30.68', 'P', '20200514_0117'], ['20200514_011723--40.81-25.59--Ke-EGE-DENIZI.M=2.0/ENEZ.BH', '2020-05-14T01:17:32.42', 'P', '20200514_0117'], ['20200514_011723--40.81-25.59--Ke-EGE-DENIZI.M=2.0/GADA.BH', '2020-05-14T01:17:36.68', 'P', '20200514_0117'], ['20200514_011723--40.81-25.59--Ke-EGE-DENIZI.M=2.0/ERIK.BH', '2020-05-14T01:17:37.61', 'P', '20200514_0117'], ['20200514_011723--40.81-25.59--Ke-EGE-DENIZI.M=2.0/GELI.BH', '2020-05-14T01:17:39.06', 'P', '20200514_0117'], ['20200514_011723--40.81-25.59--Ke-EGE-DENIZI.M=2.0/KDZ.HH', '2020-05-14T01:17:39.94', 'P', '20200514_0117'], ['20200514_011723--40.81-25.59--Ke-EGE-DENIZI.M=2.0/COMU.HH', '2020-05-14T01:17:42.80', 'P', '20200514_0117'], ['20200514_011723--40.81-25.59--Ke-EGE-DENIZI.M=2.0/BOZC.BH', '2020-05-14T01:17:43.48', 'P', '20200514_0117'], ['20200514_021748--39.59-26.09--Ke-TUZLA-AYVACIK-(CANAKKALE).M=1.3/BOZC.BH', '2020-05-14T02:17:54.05', 'P', '20200514_0217']]\n"
     ]
    }
   ],
   "source": [
    "i = 0\n",
    "ppicks_corrected = []\n",
    "for ppick in ppicks:\n",
    "    sec = int((ppick[1][17:19]))\n",
    "    min = int((ppick[1][14:16]))\n",
    "    if  sec > 59:\n",
    "        error_time = ppick[1][:16] + ':' + str(sec%60) + (ppick[1][19:22])\n",
    "        new_time = datetime.strptime(error_time, '%Y-%m-%dT%H:%M:%S.%f') + timedelta(seconds = 60)\n",
    "        ppicks_corrected.append([ppick[0], new_time.strftime('%Y-%m-%dT%H:%M:%S.%f')[:-4], ppick[2], ppick[3]])\n",
    "        i += 1\n",
    "    else:\n",
    "        ppicks_corrected.append([ppick[0], ppick[1], ppick[2], ppick[3]])\n",
    "print('Corrected P picks: ', i)\n",
    "print(len(ppicks_corrected))\n",
    "print(ppicks_corrected[0:10])"
   ]
  },
  {
   "cell_type": "code",
   "execution_count": 10,
   "id": "12bab67b-a772-4329-a95c-2a78862ff307",
   "metadata": {},
   "outputs": [
    {
     "name": "stdout",
     "output_type": "stream",
     "text": [
      "Corrected S picks:  593\n",
      "3689\n",
      "[['20200514_011723--40.81-25.59--Ke-EGE-DENIZI.M=2.0/ENEZ.BH', '2020-05-14T01:17:39.00', 'S', '20200514_0117'], ['20200514_011723--40.81-25.59--Ke-EGE-DENIZI.M=2.0/GADA.BH', '2020-05-14T01:17:46.04', 'S', '20200514_0117'], ['20200514_011723--40.81-25.59--Ke-EGE-DENIZI.M=2.0/ERIK.BH', '2020-05-14T01:17:47.05', 'S', '20200514_0117'], ['20200514_011723--40.81-25.59--Ke-EGE-DENIZI.M=2.0/GELI.BH', '2020-05-14T01:17:50.07', 'S', '20200514_0117'], ['20200514_011723--40.81-25.59--Ke-EGE-DENIZI.M=2.0/COMU.HH', '2020-05-14T01:17:56.07', 'S', '20200514_0117'], ['20200514_011723--40.81-25.59--Ke-EGE-DENIZI.M=2.0/BOZC.BH', '2020-05-14T01:17:58.04', 'S', '20200514_0117'], ['20200514_021748--39.59-26.09--Ke-TUZLA-AYVACIK-(CANAKKALE).M=1.3/BOZC.BH', '2020-05-14T02:17:58.01', 'S', '20200514_0217'], ['20200514_021748--39.59-26.09--Ke-TUZLA-AYVACIK-(CANAKKALE).M=1.3/COMU.HH', '2020-05-14T02:18:08.05', 'S', '20200514_0217'], ['20200514_021748--39.59-26.09--Ke-TUZLA-AYVACIK-(CANAKKALE).M=1.3/GADA.BH', '2020-05-14T02:18:09.06', 'S', '20200514_0217'], ['20200514_021748--39.59-26.09--Ke-TUZLA-AYVACIK-(CANAKKALE).M=1.3/GELI.BH', '2020-05-14T02:18:17.09', 'S', '20200514_0217']]\n"
     ]
    }
   ],
   "source": [
    "i = 0\n",
    "spicks_corrected = []\n",
    "for spick in spicks:\n",
    "    sec = int((spick[1][17:19]))\n",
    "    min = int((spick[1][14:16]))\n",
    "    if  sec > 59:\n",
    "        error_time = spick[1][:16] + ':' + str(sec%60) + (spick[1][19:22])\n",
    "        new_time = datetime.strptime(error_time, '%Y-%m-%dT%H:%M:%S.%f') + timedelta(seconds = 60)\n",
    "        spicks_corrected.append([spick[0], new_time.strftime('%Y-%m-%dT%H:%M:%S.%f')[:-4], spick[2], spick[3]])\n",
    "        i += 1\n",
    "    else:\n",
    "        spicks_corrected.append([spick[0], spick[1], spick[2], spick[3]])\n",
    "print('Corrected S picks: ', i)\n",
    "print(len(spicks_corrected))\n",
    "print(spicks_corrected[0:10])"
   ]
  },
  {
   "cell_type": "code",
   "execution_count": 11,
   "id": "f758b75b-497c-47a5-8875-95a5ec400afb",
   "metadata": {},
   "outputs": [
    {
     "name": "stderr",
     "output_type": "stream",
     "text": [
      "100%|███████████████████████████████████████████████████████████████████████████████████████████████████████████████████████████████████████| 7095/7095 [00:01<00:00, 6622.76it/s]"
     ]
    },
    {
     "name": "stdout",
     "output_type": "stream",
     "text": [
      "7091\n",
      "[['20200514_011723--40.81-25.59--Ke-EGE-DENIZI.M=2.0/RDO.HH', '2020-05-14T01:17:30.54', 'NO', '20200514_0117'], ['20200514_011723--40.81-25.59--Ke-EGE-DENIZI.M=2.0/ALN.HH', '2020-05-14T01:17:30.68', 'NO', '20200514_0117'], ['20200514_011723--40.81-25.59--Ke-EGE-DENIZI.M=2.0/ENEZ.BH', '2020-05-14T01:17:32.42', '2020-05-14T01:17:39.00', '20200514_0117'], ['20200514_011723--40.81-25.59--Ke-EGE-DENIZI.M=2.0/GADA.BH', '2020-05-14T01:17:36.68', '2020-05-14T01:17:46.04', '20200514_0117'], ['20200514_011723--40.81-25.59--Ke-EGE-DENIZI.M=2.0/ERIK.BH', '2020-05-14T01:17:37.61', '2020-05-14T01:17:47.05', '20200514_0117'], ['20200514_011723--40.81-25.59--Ke-EGE-DENIZI.M=2.0/GELI.BH', '2020-05-14T01:17:39.06', '2020-05-14T01:17:50.07', '20200514_0117'], ['20200514_011723--40.81-25.59--Ke-EGE-DENIZI.M=2.0/KDZ.HH', '2020-05-14T01:17:39.94', 'NO', '20200514_0117'], ['20200514_011723--40.81-25.59--Ke-EGE-DENIZI.M=2.0/COMU.HH', '2020-05-14T01:17:42.80', '2020-05-14T01:17:56.07', '20200514_0117'], ['20200514_011723--40.81-25.59--Ke-EGE-DENIZI.M=2.0/BOZC.BH', '2020-05-14T01:17:43.48', '2020-05-14T01:17:58.04', '20200514_0117'], ['20200514_021748--39.59-26.09--Ke-TUZLA-AYVACIK-(CANAKKALE).M=1.3/BOZC.BH', '2020-05-14T02:17:54.05', '2020-05-14T02:17:58.01', '20200514_0217']]\n"
     ]
    },
    {
     "name": "stderr",
     "output_type": "stream",
     "text": [
      "\n"
     ]
    }
   ],
   "source": [
    "allpicks = []\n",
    "for ppick in tqdm(ppicks_corrected):\n",
    "    temps = 'NO'\n",
    "    for spick in spicks_corrected:\n",
    "        if ppick[0] == spick[0]:\n",
    "            temps = spick[1]\n",
    "    if temps != 'NO':\n",
    "        a = datetime.strptime(ppick[1], '%Y-%m-%dT%H:%M:%S.%f')\n",
    "        b = datetime.strptime(temps, '%Y-%m-%dT%H:%M:%S.%f')\n",
    "        diff1 = a - b\n",
    "        if (abs(diff1.total_seconds())) < 25:\n",
    "            allpicks.append([ppick[0], ppick[1], temps, ppick[3]])\n",
    "    else:\n",
    "        allpicks.append([ppick[0], ppick[1], temps, ppick[3]])\n",
    "print(len(allpicks))\n",
    "print(allpicks[0:10])"
   ]
  },
  {
   "cell_type": "code",
   "execution_count": 12,
   "id": "83131f94-d144-438c-838e-5a74b74e9268",
   "metadata": {},
   "outputs": [
    {
     "name": "stdout",
     "output_type": "stream",
     "text": [
      "-4\n",
      "-4\n",
      "7091\n",
      "[['20200514_011723--40.81-25.59--Ke-EGE-DENIZI.M=2.0/RDO.HH', '2020-05-14T01:17:30.54', 'P', '20200514_0117'], ['20200514_011723--40.81-25.59--Ke-EGE-DENIZI.M=2.0/ALN.HH', '2020-05-14T01:17:30.68', 'P', '20200514_0117'], ['20200514_011723--40.81-25.59--Ke-EGE-DENIZI.M=2.0/ENEZ.BH', '2020-05-14T01:17:32.42', 'P', '20200514_0117'], ['20200514_011723--40.81-25.59--Ke-EGE-DENIZI.M=2.0/GADA.BH', '2020-05-14T01:17:36.68', 'P', '20200514_0117'], ['20200514_011723--40.81-25.59--Ke-EGE-DENIZI.M=2.0/ERIK.BH', '2020-05-14T01:17:37.61', 'P', '20200514_0117'], ['20200514_011723--40.81-25.59--Ke-EGE-DENIZI.M=2.0/GELI.BH', '2020-05-14T01:17:39.06', 'P', '20200514_0117'], ['20200514_011723--40.81-25.59--Ke-EGE-DENIZI.M=2.0/KDZ.HH', '2020-05-14T01:17:39.94', 'P', '20200514_0117'], ['20200514_011723--40.81-25.59--Ke-EGE-DENIZI.M=2.0/COMU.HH', '2020-05-14T01:17:42.80', 'P', '20200514_0117'], ['20200514_011723--40.81-25.59--Ke-EGE-DENIZI.M=2.0/BOZC.BH', '2020-05-14T01:17:43.48', 'P', '20200514_0117'], ['20200514_021748--39.59-26.09--Ke-TUZLA-AYVACIK-(CANAKKALE).M=1.3/BOZC.BH', '2020-05-14T02:17:54.05', 'P', '20200514_0217']]\n",
      "3685\n",
      "[['20200514_011723--40.81-25.59--Ke-EGE-DENIZI.M=2.0/ENEZ.BH', '2020-05-14T01:17:39.00', 'S', '20200514_0117'], ['20200514_011723--40.81-25.59--Ke-EGE-DENIZI.M=2.0/GADA.BH', '2020-05-14T01:17:46.04', 'S', '20200514_0117'], ['20200514_011723--40.81-25.59--Ke-EGE-DENIZI.M=2.0/ERIK.BH', '2020-05-14T01:17:47.05', 'S', '20200514_0117'], ['20200514_011723--40.81-25.59--Ke-EGE-DENIZI.M=2.0/GELI.BH', '2020-05-14T01:17:50.07', 'S', '20200514_0117'], ['20200514_011723--40.81-25.59--Ke-EGE-DENIZI.M=2.0/COMU.HH', '2020-05-14T01:17:56.07', 'S', '20200514_0117'], ['20200514_011723--40.81-25.59--Ke-EGE-DENIZI.M=2.0/BOZC.BH', '2020-05-14T01:17:58.04', 'S', '20200514_0117'], ['20200514_021748--39.59-26.09--Ke-TUZLA-AYVACIK-(CANAKKALE).M=1.3/BOZC.BH', '2020-05-14T02:17:58.01', 'S', '20200514_0217'], ['20200514_021748--39.59-26.09--Ke-TUZLA-AYVACIK-(CANAKKALE).M=1.3/COMU.HH', '2020-05-14T02:18:08.05', 'S', '20200514_0217'], ['20200514_021748--39.59-26.09--Ke-TUZLA-AYVACIK-(CANAKKALE).M=1.3/GADA.BH', '2020-05-14T02:18:09.06', 'S', '20200514_0217'], ['20200514_021748--39.59-26.09--Ke-TUZLA-AYVACIK-(CANAKKALE).M=1.3/GELI.BH', '2020-05-14T02:18:17.09', 'S', '20200514_0217']]\n"
     ]
    }
   ],
   "source": [
    "allp = []\n",
    "alls = []\n",
    "for allpick in allpicks:\n",
    "    allp.append([allpick[0], allpick[1], 'P', allpick[3]])\n",
    "    if allpick[2] != 'NO':\n",
    "        alls.append([allpick[0], allpick[2], 'S', allpick[3]])\n",
    "print(len(allp) - len(ppicks_corrected))\n",
    "print(len(alls) - len(spicks_corrected))\n",
    "print(len(allp))\n",
    "print(allp[0:10])\n",
    "print(len(alls))\n",
    "print(alls[0:10])"
   ]
  },
  {
   "cell_type": "code",
   "execution_count": 13,
   "id": "467f6552-ce3b-4346-9e2a-43c622ebd85f",
   "metadata": {},
   "outputs": [
    {
     "name": "stderr",
     "output_type": "stream",
     "text": [
      "100%|████████████████████████████████████████████████████████████████████████████████████████████████████████████████████████████████████████| 7091/7091 [00:53<00:00, 133.60it/s]\n"
     ]
    }
   ],
   "source": [
    "os.chdir('{}'.format(path_project_home))\n",
    "for ppick in tqdm(allp):\n",
    "    current_path = path_data_in + ppick[0].split('/')[0]\n",
    "    next_path = path_data_out + ppick[0].split('/')[0]\n",
    "    os.chdir('{}'.format(current_path))\n",
    "    current_station = ppick[0].split('/')[1]\n",
    "    current_seismographs = glob.glob('{}*'.format(current_station))\n",
    "    for curr_seis in current_seismographs:\n",
    "        os.chdir('{}'.format(path_project_home))\n",
    "        os.chdir('{}'.format(current_path))\n",
    "        st = read(curr_seis)\n",
    "        if st[0].stats.sampling_rate != 100:\n",
    "            st.resample(100)\n",
    "        st.filter(\"bandpass\", freqmin=1, freqmax=15)\n",
    "        start_time = UTCDateTime(ppick[1]) \n",
    "        st_new = st.slice(start_time - 5, start_time + 25)\n",
    "        os.chdir('{}'.format(path_project_home))\n",
    "        isExist = os.path.exists(next_path)\n",
    "        if not isExist:\n",
    "            os.makedirs(next_path)\n",
    "        os.chdir('{}'.format(next_path))\n",
    "        st_new.write(curr_seis, format='SAC')\n",
    "    os.chdir('{}'.format(path_project_home))"
   ]
  },
  {
   "cell_type": "code",
   "execution_count": 14,
   "id": "096fe87d-823e-4916-a1ff-52cf4e7dfa7d",
   "metadata": {},
   "outputs": [
    {
     "name": "stdout",
     "output_type": "stream",
     "text": [
      "7091\n"
     ]
    }
   ],
   "source": [
    "i = 0\n",
    "with open(path_phasenet_input_AAS, 'w', newline='') as file:\n",
    "    writer = csv.writer(file)\n",
    "    writer.writerow(['fname'])\n",
    "    for pick in allpicks:\n",
    "        writer.writerow([path_data_out + pick[0] + '*'])\n",
    "        i += 1\n",
    "print(i)"
   ]
  },
  {
   "cell_type": "code",
   "execution_count": 15,
   "id": "eec2443c-f842-4e21-a9c7-f6b674bc883b",
   "metadata": {},
   "outputs": [
    {
     "name": "stdout",
     "output_type": "stream",
     "text": [
      "7091\n"
     ]
    }
   ],
   "source": [
    "i = 0\n",
    "with open(path_all_hand_p, 'w', newline='') as file:\n",
    "    writer = csv.writer(file)\n",
    "    for ppick in allp:\n",
    "        writer.writerow(ppick)\n",
    "        i += 1\n",
    "print(i)"
   ]
  },
  {
   "cell_type": "code",
   "execution_count": 16,
   "id": "b295b4b2-9ca5-4e9d-89c2-037ff5109f9e",
   "metadata": {},
   "outputs": [
    {
     "name": "stdout",
     "output_type": "stream",
     "text": [
      "3685\n"
     ]
    }
   ],
   "source": [
    "i = 0\n",
    "with open(path_all_hand_s, 'w', newline='') as file:\n",
    "    writer = csv.writer(file)\n",
    "    for spick in alls:\n",
    "        writer.writerow(spick)\n",
    "        i += 1\n",
    "print(i)"
   ]
  },
  {
   "cell_type": "code",
   "execution_count": null,
   "id": "de66583b-91f5-4369-954e-fcdab030a2d8",
   "metadata": {},
   "outputs": [],
   "source": []
  }
 ],
 "metadata": {
  "kernelspec": {
   "display_name": "Python 3 (ipykernel)",
   "language": "python",
   "name": "python3"
  },
  "language_info": {
   "codemirror_mode": {
    "name": "ipython",
    "version": 3
   },
   "file_extension": ".py",
   "mimetype": "text/x-python",
   "name": "python",
   "nbconvert_exporter": "python",
   "pygments_lexer": "ipython3",
   "version": "3.11.6"
  }
 },
 "nbformat": 4,
 "nbformat_minor": 5
}
