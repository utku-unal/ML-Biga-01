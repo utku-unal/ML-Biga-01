{
 "cells": [
  {
   "cell_type": "code",
   "execution_count": 3,
   "id": "32146b22-f5cf-43fb-a1a7-17ace8d44a86",
   "metadata": {},
   "outputs": [],
   "source": [
    "import csv\n",
    "from datetime import datetime\n",
    "from datetime import timedelta\n",
    "import numpy as np\n",
    "import os\n",
    "import pandas as pd\n",
    "from tqdm import tqdm"
   ]
  },
  {
   "cell_type": "code",
   "execution_count": 4,
   "id": "c1276fd1-e80a-4ef0-96a1-e40827c07147",
   "metadata": {},
   "outputs": [],
   "source": [
    "path_phasenet_picks = './results.AAS/picks.csv'\n",
    "path_all_phasenet_p = './AA/AAS_all_phasenet_p_picks.csv'\n",
    "path_all_phasenet_s = './AA/AAS_all_phasenet_s_picks.csv'"
   ]
  },
  {
   "cell_type": "code",
   "execution_count": 5,
   "id": "7abee681-a5a7-4c2f-ac58-1f8434e92dc6",
   "metadata": {},
   "outputs": [],
   "source": [
    "path_project_home = '/Users/utkuunal/Desktop/Projects/ProjectA'\n",
    "os.chdir('{}'.format(path_project_home))"
   ]
  },
  {
   "cell_type": "code",
   "execution_count": 6,
   "id": "b547a190-acae-4820-ba5e-39104f9fe71f",
   "metadata": {},
   "outputs": [
    {
     "name": "stdout",
     "output_type": "stream",
     "text": [
      "4932\n",
      "[['20200514_011723--40.81-25.59--Ke-EGE-DENIZI.M=2.0/RDO.HH', '2020-05-14T01:17:30.60', 'P', '0.969'], ['20200514_011723--40.81-25.59--Ke-EGE-DENIZI.M=2.0/ALN.HH', '2020-05-14T01:17:30.69', 'P', '0.961'], ['20200514_011723--40.81-25.59--Ke-EGE-DENIZI.M=2.0/ENEZ.BH', '2020-05-14T01:17:32.36', 'P', '0.911'], ['20200514_011723--40.81-25.59--Ke-EGE-DENIZI.M=2.0/GADA.BH', '2020-05-14T01:17:36.69', 'P', '0.923'], ['20200514_011723--40.81-25.59--Ke-EGE-DENIZI.M=2.0/ERIK.BH', '2020-05-14T01:17:36.99', 'P', '0.745'], ['20200514_011723--40.81-25.59--Ke-EGE-DENIZI.M=2.0/GELI.BH', '2020-05-14T01:17:38.56', 'P', '0.771'], ['20200514_011723--40.81-25.59--Ke-EGE-DENIZI.M=2.0/KDZ.HH', '2020-05-14T01:17:38.60', 'P', '0.943'], ['20200514_011723--40.81-25.59--Ke-EGE-DENIZI.M=2.0/COMU.HH', '2020-05-14T01:17:42.95', 'P', '0.692'], ['20200514_011723--40.81-25.59--Ke-EGE-DENIZI.M=2.0/BOZC.BH', '2020-05-14T01:17:43.07', 'P', '0.925'], ['20200514_021748--39.59-26.09--Ke-TUZLA-AYVACIK-(CANAKKALE).M=1.3/BOZC.BH', '2020-05-14T02:17:54.54', 'P', '0.95']]\n",
      "4893\n",
      "['20200514_011723--40.81-25.59--Ke-EGE-DENIZI.M=2.0/RDO.HH', '20200514_011723--40.81-25.59--Ke-EGE-DENIZI.M=2.0/ALN.HH', '20200514_011723--40.81-25.59--Ke-EGE-DENIZI.M=2.0/ENEZ.BH', '20200514_011723--40.81-25.59--Ke-EGE-DENIZI.M=2.0/GADA.BH', '20200514_011723--40.81-25.59--Ke-EGE-DENIZI.M=2.0/ERIK.BH', '20200514_011723--40.81-25.59--Ke-EGE-DENIZI.M=2.0/GELI.BH', '20200514_011723--40.81-25.59--Ke-EGE-DENIZI.M=2.0/KDZ.HH', '20200514_011723--40.81-25.59--Ke-EGE-DENIZI.M=2.0/COMU.HH', '20200514_011723--40.81-25.59--Ke-EGE-DENIZI.M=2.0/BOZC.BH', '20200514_021748--39.59-26.09--Ke-TUZLA-AYVACIK-(CANAKKALE).M=1.3/BOZC.BH', '20200514_021748--39.59-26.09--Ke-TUZLA-AYVACIK-(CANAKKALE).M=1.3/EZN.BH', '20200514_021748--39.59-26.09--Ke-TUZLA-AYVACIK-(CANAKKALE).M=1.3/EZNE.AH', '20200514_021748--39.59-26.09--Ke-TUZLA-AYVACIK-(CANAKKALE).M=1.3/GELI.BH', '20200514_021748--39.59-26.09--Ke-TUZLA-AYVACIK-(CANAKKALE).M=1.3/ERIK.BH', '20200514_045219--40.43-26.25--Ke-SAROS-KORFEZI-(EGE-DENIZI).M=1.5/GELI.BH', '20200514_045219--40.43-26.25--Ke-SAROS-KORFEZI-(EGE-DENIZI).M=1.5/ERIK.BH', '20200514_045219--40.43-26.25--Ke-SAROS-KORFEZI-(EGE-DENIZI).M=1.5/ENEZ.BH', '20200514_045219--40.43-26.25--Ke-SAROS-KORFEZI-(EGE-DENIZI).M=1.5/GADA.BH', '20200514_045219--40.43-26.25--Ke-SAROS-KORFEZI-(EGE-DENIZI).M=1.5/ALN.HH', '20200514_053529--38.48-25.80--Ke-SAKIZ-ADASI-(EGE-DENIZI).M=2.3/CHOS.HH']\n",
      "39\n",
      "['20200520_105313--38.96-26.40--Ke-MIDILLI-ADASI-(EGE-DENIZI).M=3.6/GELI.BH', '20200521_065107--38.97-26.43--Ke-MIDILLI-ADASI-(EGE-DENIZI).M=2.6/GELI.BH', '20200612_064958--39.52-26.06--Ke-BABAKALE-AYVACIK-(CANAKKALE).M=2.3/GADA.BH', '20200615_180404--38.92-26.44--Ke-EGE-DENIZI.M=2.0/DKL.BH', '20200618_112929--38.78-26.59--Ke-EGE-DENIZI.M=1.2/FOCM.AH', '20200620_234011--38.04-26.93--Ke-KUSADASI-KORFEZI-(EGE-DENIZI).M=1.8/GMLD.AH', '20200629_020454--40.77-25.56--Ke-EGE-DENIZI.M=2.4/PLD.HH', '20200717_234126--40.24-25.20--Ke-EGE-DENIZI.M=2.5/OUR.HH', '20200721_063944--40.48-28.09--Ke-BANDIRMA-ACIKLARI-BALIKESIR-(MARMARA-DENIZI).M=1.7/KCTX.BH', '20200825_140835--39.34-27.59--Ke-BUYUKISIKLAR-SOMA-(MANISA).M=2.9/BALB.BH', '20200906_061206--40.34-27.42--Ke-BOZLAR-BIGA-(CANAKKALE).M=1.6/EDC.HN', '20201029_153353--39.47-25.93--Ke-GULPINAR-ACIKLARI-CANAKKALE-(EGE-DENIZI).M=3.1/KRBG.BH', '20201103_203537--40.33-27.11--Ke-KARACAALI-BIGA-(CANAKKALE).M=3.0/ARMT.HN', '20201130_160711--39.61-26.16--Ke-BABADERE-AYVACIK-(CANAKKALE).M=1.5/EZNE.AH', '20210124_021134--39.78-26.77--Ke-EVCILER-BAYRAMIC-(CANAKKALE).M=2.2/EZN.BH', '20210214_070809--40.13-27.79--Ke-SARACLAR-GONEN-(BALIKESIR).M=2.0/GONE.AH', '20210306_230527--39.56-27.34--Ke-KOBAKLAR-HAVRAN-(BALIKESIR).M=2.5/ENEZ.BH', '20210328_053438--39.31-26.08--Ke-MIDILLI-ADASI-(EGE-DENIZI).M=2.1/ERIK.BH', '20210329_135750--39.27-26.10--Ke-MIDILLI-ADASI-(EGE-DENIZI).M=2.0/ERIK.BH', '20210415_042818--39.30-26.09--Ke-MIDILLI-ADASI-(EGE-DENIZI).M=2.3/KRBG.BH']\n"
     ]
    }
   ],
   "source": [
    "pproblimit = 0.60;\n",
    "phasep = []\n",
    "eventrecsp = []\n",
    "multirecsp = []\n",
    "with open(path_phasenet_picks) as csv_file:\n",
    "    csv_reader = csv.reader(csv_file, delimiter=',')\n",
    "    for row in csv_reader:\n",
    "        if row[0] != 'station_id':\n",
    "            if (row[5] == 'P') and (float(row[4]) >= pproblimit):\n",
    "                phasep.append([row[6][15:-1], row[3][:-1], row[5], row[4]])\n",
    "                if (row[6][15:-1]) not in eventrecsp:\n",
    "                    eventrecsp.append(row[6][15:-1])\n",
    "                elif (row[6][15:-1]) not in multirecsp:\n",
    "                    multirecsp.append(row[6][15:-1])\n",
    "\n",
    "print(len(phasep))\n",
    "print(phasep[:10])\n",
    "print(len(eventrecsp))\n",
    "print(eventrecsp[:20])\n",
    "print(len(multirecsp))\n",
    "print(multirecsp[:20])"
   ]
  },
  {
   "cell_type": "code",
   "execution_count": 7,
   "id": "340411a1-c4c2-4b3e-bb93-8136db8aa51e",
   "metadata": {},
   "outputs": [
    {
     "name": "stdout",
     "output_type": "stream",
     "text": [
      "4961\n",
      "[['20200514_011723--40.81-25.59--Ke-EGE-DENIZI.M=2.0/RDO.HH', '2020-05-14T01:17:35.62', 'S', '0.646'], ['20200514_011723--40.81-25.59--Ke-EGE-DENIZI.M=2.0/ALN.HH', '2020-05-14T01:17:36.00', 'S', '0.802'], ['20200514_011723--40.81-25.59--Ke-EGE-DENIZI.M=2.0/ENEZ.BH', '2020-05-14T01:17:39.24', 'S', '0.707'], ['20200514_011723--40.81-25.59--Ke-EGE-DENIZI.M=2.0/GADA.BH', '2020-05-14T01:17:46.07', 'S', '0.646'], ['20200514_011723--40.81-25.59--Ke-EGE-DENIZI.M=2.0/ERIK.BH', '2020-05-14T01:17:47.09', 'S', '0.741'], ['20200514_011723--40.81-25.59--Ke-EGE-DENIZI.M=2.0/KDZ.HH', '2020-05-14T01:17:50.29', 'S', '0.464'], ['20200514_011723--40.81-25.59--Ke-EGE-DENIZI.M=2.0/COMU.HH', '2020-05-14T01:17:57.22', 'S', '0.676'], ['20200514_011723--40.81-25.59--Ke-EGE-DENIZI.M=2.0/BOZC.BH', '2020-05-14T01:17:57.22', 'S', '0.569'], ['20200514_021748--39.59-26.09--Ke-TUZLA-AYVACIK-(CANAKKALE).M=1.3/BOZC.BH', '2020-05-14T02:17:58.40', 'S', '0.907'], ['20200514_021748--39.59-26.09--Ke-TUZLA-AYVACIK-(CANAKKALE).M=1.3/EZN.BH', '2020-05-14T02:17:59.94', 'S', '0.868']]\n",
      "4920\n",
      "['20200514_011723--40.81-25.59--Ke-EGE-DENIZI.M=2.0/RDO.HH', '20200514_011723--40.81-25.59--Ke-EGE-DENIZI.M=2.0/ALN.HH', '20200514_011723--40.81-25.59--Ke-EGE-DENIZI.M=2.0/ENEZ.BH', '20200514_011723--40.81-25.59--Ke-EGE-DENIZI.M=2.0/GADA.BH', '20200514_011723--40.81-25.59--Ke-EGE-DENIZI.M=2.0/ERIK.BH', '20200514_011723--40.81-25.59--Ke-EGE-DENIZI.M=2.0/KDZ.HH', '20200514_011723--40.81-25.59--Ke-EGE-DENIZI.M=2.0/COMU.HH', '20200514_011723--40.81-25.59--Ke-EGE-DENIZI.M=2.0/BOZC.BH', '20200514_021748--39.59-26.09--Ke-TUZLA-AYVACIK-(CANAKKALE).M=1.3/BOZC.BH', '20200514_021748--39.59-26.09--Ke-TUZLA-AYVACIK-(CANAKKALE).M=1.3/EZN.BH', '20200514_021748--39.59-26.09--Ke-TUZLA-AYVACIK-(CANAKKALE).M=1.3/EZNE.AH', '20200514_021748--39.59-26.09--Ke-TUZLA-AYVACIK-(CANAKKALE).M=1.3/COMU.HH', '20200514_021748--39.59-26.09--Ke-TUZLA-AYVACIK-(CANAKKALE).M=1.3/GADA.BH', '20200514_021748--39.59-26.09--Ke-TUZLA-AYVACIK-(CANAKKALE).M=1.3/GELI.BH', '20200514_021748--39.59-26.09--Ke-TUZLA-AYVACIK-(CANAKKALE).M=1.3/ERIK.BH', '20200514_021748--39.59-26.09--Ke-TUZLA-AYVACIK-(CANAKKALE).M=1.3/ENEZ.BH', '20200514_021748--39.59-26.09--Ke-TUZLA-AYVACIK-(CANAKKALE).M=1.3/KRBG.BH', '20200514_021748--39.59-26.09--Ke-TUZLA-AYVACIK-(CANAKKALE).M=1.3/ALN.HH', '20200514_045219--40.43-26.25--Ke-SAROS-KORFEZI-(EGE-DENIZI).M=1.5/GELI.BH', '20200514_045219--40.43-26.25--Ke-SAROS-KORFEZI-(EGE-DENIZI).M=1.5/ERIK.BH']\n",
      "41\n",
      "['20200531_011255--39.68-25.60--Ke-EGE-DENIZI.M=2.2/CANM.SH', '20200602_164418--39.41-27.86--Ke-YESILLER-(BALIKESIR).M=1.7/TVSB.BH', '20200602_164418--39.41-27.86--Ke-YESILLER-(BALIKESIR).M=1.7/ARMT.BH', '20200620_234011--38.04-26.93--Ke-KUSADASI-KORFEZI-(EGE-DENIZI).M=1.8/GMLD.AH', '20200620_234011--38.04-26.93--Ke-KUSADASI-KORFEZI-(EGE-DENIZI).M=1.8/GCAM.BH', '20200621_120444--40.81-25.59--Ke-EGE-DENIZI.M=2.4/KDZ.HH', '20200627_025313--40.26-28.02--Ke-YENISIGIRCI-BANDIRMA-(BALIKESIR).M=1.5/BALB.BH', '20200629_150943--39.36-26.11--Ke-MIDILLI-ADASI-(EGE-DENIZI).M=2.0/KRBG.BH', '20200629_195603--39.36-24.31--Ke-EGE-DENIZI.M=2.8/GADA.BH', '20200704_214337--37.65-26.94--Ke-EGE-DENIZI.M=1.7/BLCB.BH', '20200807_152629--39.63-25.96--Ke-TAVAKLI-ACIKLARI-CANAKKALE-(EGE-DENIZI).M=1.8/BOZC.BH', '20200822_124013--40.15-27.29--Ke-ISIKELI-BIGA-(CANAKKALE).M=2.8_ok/ORLT.AH', '20200830_205713--39.46-26.25--Ke-BEKTAS-AYVACIK-(CANAKKALE).M=3.3/KRBG.AH', '20200926_232249--40.36-27.19--Ke-KOCAGUR-BIGA-(CANAKKALE).M=2.8/KRBG.AH', '20201006_150727--39.22-27.64--Ke-BUYUKGUNEY-SOMA-(MANISA).M=2.7/FOCM.AH', '20210122_184158--39.78-26.75--Ke-EVCILER-BAYRAMIC-(CANAKKALE).M=3.1/ENEZ.BH', '20210122_204347--39.76-26.75--Ke-CAVUSLU-BAYRAMIC-(CANAKKALE).M=2.7/ENEZ.BH', '20210225_071739--39.59-26.47--Ke-TARTISIK-AYVACIK-(CANAKKALE).M=2.0/GADA.BH', '20210225_071739--39.59-26.47--Ke-TARTISIK-AYVACIK-(CANAKKALE).M=2.0/ERIK.BH', '20210225_071739--39.59-26.47--Ke-TARTISIK-AYVACIK-(CANAKKALE).M=2.0/ENEZ.BH']\n"
     ]
    }
   ],
   "source": [
    "sproblimit = 0.40\n",
    "phases = []\n",
    "eventrecss = []\n",
    "multirecss = []\n",
    "with open(path_phasenet_picks) as csv_file:\n",
    "    csv_reader = csv.reader(csv_file, delimiter=',')\n",
    "    for row in csv_reader:\n",
    "        if row[0] != 'station_id':\n",
    "            if (row[5] == 'S') and (float(row[4]) >= sproblimit):\n",
    "                phases.append([row[6][15:-1], row[3][:-1], row[5], row[4]])\n",
    "                if (row[6][15:-1]) not in eventrecss:\n",
    "                    eventrecss.append(row[6][15:-1])\n",
    "                elif (row[6][15:-1]) not in multirecss:\n",
    "                    multirecss.append(row[6][15:-1])\n",
    "print(len(phases))\n",
    "print(phases[:10])\n",
    "print(len(eventrecss))\n",
    "print(eventrecss[:20])\n",
    "print(len(multirecss))\n",
    "print(multirecss[:20])"
   ]
  },
  {
   "cell_type": "code",
   "execution_count": 8,
   "id": "286570b9-53ea-459b-836c-2d7d5005d48f",
   "metadata": {},
   "outputs": [
    {
     "name": "stderr",
     "output_type": "stream",
     "text": [
      "100%|██████████████████████████████████████████████████████████████████████████████████████████████████████| 39/39 [00:00<00:00, 2475.56it/s]"
     ]
    },
    {
     "name": "stdout",
     "output_type": "stream",
     "text": [
      "39\n",
      "[['20200520_105313--38.96-26.40--Ke-MIDILLI-ADASI-(EGE-DENIZI).M=3.6/GELI.BH', '2020-05-20T10:53:39.78', 'P', '0.786'], ['20200521_065107--38.97-26.43--Ke-MIDILLI-ADASI-(EGE-DENIZI).M=2.6/GELI.BH', '2020-05-21T06:51:33.87', 'P', '0.857'], ['20200612_064958--39.52-26.06--Ke-BABAKALE-AYVACIK-(CANAKKALE).M=2.3/GADA.BH', '2020-06-12T06:50:22.29', 'P', '0.691'], ['20200615_180404--38.92-26.44--Ke-EGE-DENIZI.M=2.0/DKL.BH', '2020-06-15T18:04:12.55', 'P', '0.914'], ['20200618_112929--38.78-26.59--Ke-EGE-DENIZI.M=1.2/FOCM.AH', '2020-06-18T11:29:36.04', 'P', '0.966'], ['20200620_234011--38.04-26.93--Ke-KUSADASI-KORFEZI-(EGE-DENIZI).M=1.8/GMLD.AH', '2020-06-20T23:40:13.36', 'P', '0.976'], ['20200629_020454--40.77-25.56--Ke-EGE-DENIZI.M=2.4/PLD.HH', '2020-06-29T02:05:42.15', 'P', '0.625'], ['20200717_234126--40.24-25.20--Ke-EGE-DENIZI.M=2.5/OUR.HH', '2020-07-17T23:41:44.10', 'P', '0.81'], ['20200721_063944--40.48-28.09--Ke-BANDIRMA-ACIKLARI-BALIKESIR-(MARMARA-DENIZI).M=1.7/KCTX.BH', '2020-07-21T06:40:11.40', 'P', '0.689'], ['20200825_140835--39.34-27.59--Ke-BUYUKISIKLAR-SOMA-(MANISA).M=2.9/BALB.BH', '2020-08-25T14:08:43.56', 'P', '0.954']]\n"
     ]
    },
    {
     "name": "stderr",
     "output_type": "stream",
     "text": [
      "\n"
     ]
    }
   ],
   "source": [
    "selectedppicks = []\n",
    "for mult in tqdm(multirecsp):\n",
    "    temp = []\n",
    "    for php in phasep:\n",
    "        if php[0] == mult:\n",
    "            temp.append(php)\n",
    "    if len(temp) != 0:\n",
    "        selected = temp[0]\n",
    "        for te in temp:\n",
    "            if float(te[3]) > float(selected[3]):\n",
    "                selected = te\n",
    "        selectedppicks.append(selected)\n",
    "print(len(selectedppicks))\n",
    "print(selectedppicks[:10])"
   ]
  },
  {
   "cell_type": "code",
   "execution_count": 9,
   "id": "d3561b15-3230-4ec2-bc4f-eda2746d8c70",
   "metadata": {},
   "outputs": [
    {
     "name": "stderr",
     "output_type": "stream",
     "text": [
      "100%|██████████████████████████████████████████████████████████████████████████████████████████████████████| 41/41 [00:00<00:00, 2448.62it/s]"
     ]
    },
    {
     "name": "stdout",
     "output_type": "stream",
     "text": [
      "41\n",
      "[['20200531_011255--39.68-25.60--Ke-EGE-DENIZI.M=2.2/CANM.SH', '2020-05-31T01:13:34.63', 'S', '0.474'], ['20200602_164418--39.41-27.86--Ke-YESILLER-(BALIKESIR).M=1.7/TVSB.BH', '2020-06-02T16:44:59.63', 'S', '0.658'], ['20200602_164418--39.41-27.86--Ke-YESILLER-(BALIKESIR).M=1.7/ARMT.BH', '2020-06-02T16:44:51.58', 'S', '0.562'], ['20200620_234011--38.04-26.93--Ke-KUSADASI-KORFEZI-(EGE-DENIZI).M=1.8/GMLD.AH', '2020-06-20T23:40:14.75', 'S', '0.959'], ['20200620_234011--38.04-26.93--Ke-KUSADASI-KORFEZI-(EGE-DENIZI).M=1.8/GCAM.BH', '2020-06-20T23:40:26.02', 'S', '0.463'], ['20200621_120444--40.81-25.59--Ke-EGE-DENIZI.M=2.4/KDZ.HH', '2020-06-21T12:05:15.28', 'S', '0.505'], ['20200627_025313--40.26-28.02--Ke-YENISIGIRCI-BANDIRMA-(BALIKESIR).M=1.5/BALB.BH', '2020-06-27T02:53:22.68', 'S', '0.724'], ['20200629_150943--39.36-26.11--Ke-MIDILLI-ADASI-(EGE-DENIZI).M=2.0/KRBG.BH', '2020-06-29T15:10:08.77', 'S', '0.483'], ['20200629_195603--39.36-24.31--Ke-EGE-DENIZI.M=2.8/GADA.BH', '2020-06-29T19:56:35.06', 'S', '0.655'], ['20200704_214337--37.65-26.94--Ke-EGE-DENIZI.M=1.7/BLCB.BH', '2020-07-04T21:43:48.26', 'S', '0.555']]\n"
     ]
    },
    {
     "name": "stderr",
     "output_type": "stream",
     "text": [
      "\n"
     ]
    }
   ],
   "source": [
    "selectedspicks = []\n",
    "for mult in tqdm(multirecss):\n",
    "    temp = []\n",
    "    for phs in phases:\n",
    "        if phs[0] == mult:\n",
    "            temp.append(phs)\n",
    "    if len(temp) != 0:\n",
    "        selected = temp[0]\n",
    "        for te in temp:\n",
    "            if float(te[3]) > float(selected[3]):\n",
    "                selected = te\n",
    "        selectedspicks.append(selected)\n",
    "print(len(selectedspicks))\n",
    "print(selectedspicks[:10])"
   ]
  },
  {
   "cell_type": "code",
   "execution_count": 10,
   "id": "f631aac4-c155-4aad-8d54-d1506428f676",
   "metadata": {},
   "outputs": [
    {
     "name": "stderr",
     "output_type": "stream",
     "text": [
      "100%|████████████████████████████████████████████████████████████████████████████████████████████████| 4932/4932 [00:00<00:00, 606636.58it/s]\n"
     ]
    },
    {
     "name": "stdout",
     "output_type": "stream",
     "text": [
      "4854\n",
      "[['20211229_100733--39.86-26.39--Ke-AKKOY-EZINE-(CANAKKALE).M=1.3/BOZC.BH', '2021-12-29T10:07:39.87', 'P', '0.633'], ['20211229_100733--39.86-26.39--Ke-AKKOY-EZINE-(CANAKKALE).M=1.3/GADA.BH', '2021-12-29T10:07:44.07', 'P', '0.72'], ['20211229_100733--39.86-26.39--Ke-AKKOY-EZINE-(CANAKKALE).M=1.3/YAYO.BH', '2021-12-29T10:07:45.19', 'P', '0.903'], ['20211229_100733--39.86-26.39--Ke-AKKOY-EZINE-(CANAKKALE).M=1.3/ERIK.BH', '2021-12-29T10:07:49.66', 'P', '0.727'], ['20211229_100733--39.86-26.39--Ke-AKKOY-EZINE-(CANAKKALE).M=1.3/ALN.HH', '2021-12-29T10:07:53.13', 'P', '0.64'], ['20211229_122948--40.43-26.29--Ke-SAROS-KORFEZI-(EGE-DENIZI).M=1.4/GELI.BH', '2021-12-29T12:29:53.28', 'P', '0.974'], ['20211229_122948--40.43-26.29--Ke-SAROS-KORFEZI-(EGE-DENIZI).M=1.4/ERIK.BH', '2021-12-29T12:29:55.65', 'P', '0.881'], ['20211229_122948--40.43-26.29--Ke-SAROS-KORFEZI-(EGE-DENIZI).M=1.4/ENEZ.BH', '2021-12-29T12:29:56.27', 'P', '0.902'], ['20211229_122948--40.43-26.29--Ke-SAROS-KORFEZI-(EGE-DENIZI).M=1.4/LAP.BH', '2021-12-29T12:29:56.90', 'P', '0.97'], ['20211229_122948--40.43-26.29--Ke-SAROS-KORFEZI-(EGE-DENIZI).M=1.4/GADA.BH', '2021-12-29T12:29:57.16', 'P', '0.805']]\n",
      "4893\n",
      "[['20210605_013652--40.41-27.13--Ke-DEGIRMENCIK-BIGA-(CANAKKALE).M=2.1/LAP.BH', '2021-06-05T01:37:14.82', 'P', '0.952'], ['20210605_013652--40.41-27.13--Ke-DEGIRMENCIK-BIGA-(CANAKKALE).M=2.1/LAPK.AH', '2021-06-05T01:37:16.87', 'P', '0.952'], ['20210605_013652--40.41-27.13--Ke-DEGIRMENCIK-BIGA-(CANAKKALE).M=2.1/COMU.HH', '2021-06-05T01:37:20.37', 'P', '0.965'], ['20210916_094026--40.06-27.04--Ke-MALLI-CAN-(CANAKKALE).M=1.9/COMU.HH', '2021-09-16T09:40:30.44', 'P', '0.727'], ['20211029_195230--39.29-25.94--Ke-MIDILLI-ADASI-(EGE-DENIZI).M=1.5/EZN.BH', '2021-10-29T19:52:43.72', 'P', '0.845'], ['20211106_091015--39.88-26.27--Ke-PINARBASI-EZINE-(CANAKKALE).M=0.8/BOZC.BH', '2021-11-06T09:10:20.31', 'P', '0.866'], ['20211126_034015--39.74-27.05--Ke-YASYER-EDREMIT-(BALIKESIR).M=1.6/YENI.AH', '2021-11-26T03:40:21.84', 'P', '0.959'], ['20211204_154636--39.21-27.35--Ke-AZIZIYE-BERGAMA-(IZMIR).M=1.6/GORD.SH', '2021-12-04T15:46:50.56', 'P', '0.754'], ['20211209_013554--40.17-27.40--Ke-TAHTALI-GONEN-(BALIKESIR).M=3.0/YLV.BH', '2021-12-09T01:36:24.23', 'P', '0.768'], ['20211220_114753--40.02-27.07--Ke-BUYUKTEPE-CAN-(CANAKKALE).M=0.9/KRBG.BH', '2021-12-20T11:47:57.24', 'P', '0.653']]\n"
     ]
    },
    {
     "name": "stderr",
     "output_type": "stream",
     "text": [
      "100%|███████████████████████████████████████████████████████████████████████████████████████████████| 4961/4961 [00:00<00:00, 1553179.23it/s]"
     ]
    },
    {
     "name": "stdout",
     "output_type": "stream",
     "text": [
      "9772\n",
      "[['20211229_100733--39.86-26.39--Ke-AKKOY-EZINE-(CANAKKALE).M=1.3/BOZC.BH', '2021-12-29T10:07:43.45', 'S', '0.84'], ['20211229_100733--39.86-26.39--Ke-AKKOY-EZINE-(CANAKKALE).M=1.3/GELI.BH', '2021-12-29T10:07:52.35', 'S', '0.474'], ['20211229_100733--39.86-26.39--Ke-AKKOY-EZINE-(CANAKKALE).M=1.3/YAYO.BH', '2021-12-29T10:07:53.56', 'S', '0.47'], ['20211229_100733--39.86-26.39--Ke-AKKOY-EZINE-(CANAKKALE).M=1.3/ERIK.BH', '2021-12-29T10:08:00.75', 'S', '0.69'], ['20211229_122948--40.43-26.29--Ke-SAROS-KORFEZI-(EGE-DENIZI).M=1.4/GELI.BH', '2021-12-29T12:29:56.17', 'S', '0.948'], ['20211229_122948--40.43-26.29--Ke-SAROS-KORFEZI-(EGE-DENIZI).M=1.4/ERIK.BH', '2021-12-29T12:30:00.12', 'S', '0.631'], ['20211229_122948--40.43-26.29--Ke-SAROS-KORFEZI-(EGE-DENIZI).M=1.4/ENEZ.BH', '2021-12-29T12:30:01.49', 'S', '0.69'], ['20211229_122948--40.43-26.29--Ke-SAROS-KORFEZI-(EGE-DENIZI).M=1.4/LAP.BH', '2021-12-29T12:30:02.66', 'S', '0.641'], ['20211229_122948--40.43-26.29--Ke-SAROS-KORFEZI-(EGE-DENIZI).M=1.4/GADA.BH', '2021-12-29T12:30:02.93', 'S', '0.721'], ['20211229_122948--40.43-26.29--Ke-SAROS-KORFEZI-(EGE-DENIZI).M=1.4/EZN.BH', '2021-12-29T12:30:09.22', 'S', '0.455']]\n",
      "9813\n",
      "[['20210605_013652--40.41-27.13--Ke-DEGIRMENCIK-BIGA-(CANAKKALE).M=2.1/GELI.BH', '2021-06-05T01:37:09.45', 'S', '0.754'], ['20210605_013652--40.41-27.13--Ke-DEGIRMENCIK-BIGA-(CANAKKALE).M=2.1/EZN.BH', '2021-06-05T01:37:20.72', 'S', '0.564'], ['20210629_183803--39.66-25.51--Ke-EGE-DENIZI.M=3.1/GADA.BH', '2021-06-29T18:38:25.13', 'S', '0.75'], ['20210803_012110--39.70-25.54--Ke-EGE-DENIZI.M=2.4/GADA.BH', '2021-08-03T01:21:25.68', 'S', '0.739'], ['20211029_120433--39.69-26.61--Ke-UZUNALAN-AYVACIK-(CANAKKALE).M=2.5/CANM.SH', '2021-10-29T12:04:51.05', 'S', '0.893'], ['20211029_120433--39.69-26.61--Ke-UZUNALAN-AYVACIK-(CANAKKALE).M=2.5/CANM.HN', '2021-10-29T12:04:51.06', 'S', '0.88'], ['20211109_085802--39.75-26.16--Ke-DALYAN-EZINE-(CANAKKALE).M=1.3/SIGR.HH', '2021-11-09T08:58:14.24', 'S', '0.629'], ['20211129_084021--39.52-26.84--Ke-EDREMIT-KORFEZI-(EGE-DENIZI).M=2.1/ERIK.BH', '2021-11-29T08:40:47.47', 'S', '0.579'], ['20211206_090250--39.85-26.26--Sm-BOZALAN-EZINE-(CANAKKALE).M=1.0/COMU.HH', '2021-12-06T09:03:15.17', 'S', '0.415'], ['20211228_064458--40.37-27.18--Ke-CAKIRLI-BIGA-(CANAKKALE).M=2.6/GADA.BH', '2021-12-28T06:45:31.61', 'S', '0.674']]\n"
     ]
    },
    {
     "name": "stderr",
     "output_type": "stream",
     "text": [
      "\n"
     ]
    }
   ],
   "source": [
    "phase = []\n",
    "for php in tqdm(phasep):\n",
    "    if php[0] not in multirecsp:\n",
    "        phase.append(php)\n",
    "print(len(phase))\n",
    "print(phase[-10:])\n",
    "for selectedppick in selectedppicks:\n",
    "    phase.append(selectedppick)\n",
    "print(len(phase))\n",
    "print(phase[-10:])\n",
    "for phs in tqdm(phases):\n",
    "    if phs[0] not in multirecss:\n",
    "        phase.append(phs)\n",
    "print(len(phase))\n",
    "print(phase[-10:])\n",
    "for selectedspick in selectedspicks:\n",
    "    phase.append(selectedspick)\n",
    "print(len(phase))\n",
    "print(phase[-10:])"
   ]
  },
  {
   "cell_type": "code",
   "execution_count": 11,
   "id": "977f447d-1af4-4a1e-871e-b12417537b1a",
   "metadata": {},
   "outputs": [
    {
     "name": "stdout",
     "output_type": "stream",
     "text": [
      "4893\n"
     ]
    }
   ],
   "source": [
    "i = 0\n",
    "with open(path_all_phasenet_p, 'w', newline='') as file:\n",
    "    writer = csv.writer(file)\n",
    "    for pick in phase:\n",
    "        if pick[2] == 'P':\n",
    "            writer.writerow([pick[0], pick[1], pick[2], pick[3]])\n",
    "            i += 1\n",
    "print(i)"
   ]
  },
  {
   "cell_type": "code",
   "execution_count": 12,
   "id": "ad243fb2-edf1-492b-b597-fd8c73f7e295",
   "metadata": {},
   "outputs": [
    {
     "name": "stdout",
     "output_type": "stream",
     "text": [
      "4920\n"
     ]
    }
   ],
   "source": [
    "i = 0\n",
    "with open(path_all_phasenet_s, 'w', newline='') as file:\n",
    "    writer = csv.writer(file)\n",
    "    for pick in phase:\n",
    "        if pick[2] == 'S':\n",
    "            writer.writerow([pick[0], pick[1], pick[2], pick[3]])\n",
    "            i += 1\n",
    "print(i)"
   ]
  },
  {
   "cell_type": "code",
   "execution_count": null,
   "id": "a808141f-f5b7-4fcc-993c-c1c8623d56ad",
   "metadata": {},
   "outputs": [],
   "source": []
  },
  {
   "cell_type": "code",
   "execution_count": null,
   "id": "d6ca5665-95da-4abb-b3dc-9e95fc4bbbea",
   "metadata": {},
   "outputs": [],
   "source": []
  },
  {
   "cell_type": "code",
   "execution_count": null,
   "id": "a6c146a9-e18c-4b70-8619-6cfdb73fedf3",
   "metadata": {},
   "outputs": [],
   "source": []
  }
 ],
 "metadata": {
  "kernelspec": {
   "display_name": "Python 3 (ipykernel)",
   "language": "python",
   "name": "python3"
  },
  "language_info": {
   "codemirror_mode": {
    "name": "ipython",
    "version": 3
   },
   "file_extension": ".py",
   "mimetype": "text/x-python",
   "name": "python",
   "nbconvert_exporter": "python",
   "pygments_lexer": "ipython3",
   "version": "3.11.6"
  }
 },
 "nbformat": 4,
 "nbformat_minor": 5
}
